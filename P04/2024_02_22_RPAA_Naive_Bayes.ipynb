{
 "cells": [
  {
   "cell_type": "code",
   "execution_count": 2,
   "metadata": {
    "colab": {
     "base_uri": "https://localhost:8080/",
     "height": 458
    },
    "executionInfo": {
     "elapsed": 428,
     "status": "ok",
     "timestamp": 1708631059130,
     "user": {
      "displayName": "Luis Emilio Gónzalez Covarrubias",
      "userId": "01801429345147226763"
     },
     "user_tz": 360
    },
    "id": "pM4MqAPSVLok",
    "outputId": "c4d21718-932e-48a0-c61b-f06fe25be70d"
   },
   "outputs": [
    {
     "data": {
      "text/html": [
       "<div>\n",
       "<style scoped>\n",
       "    .dataframe tbody tr th:only-of-type {\n",
       "        vertical-align: middle;\n",
       "    }\n",
       "\n",
       "    .dataframe tbody tr th {\n",
       "        vertical-align: top;\n",
       "    }\n",
       "\n",
       "    .dataframe thead th {\n",
       "        text-align: right;\n",
       "    }\n",
       "</style>\n",
       "<table border=\"1\" class=\"dataframe\">\n",
       "  <thead>\n",
       "    <tr style=\"text-align: right;\">\n",
       "      <th></th>\n",
       "      <th>Unnamed: 0</th>\n",
       "      <th>label</th>\n",
       "      <th>text</th>\n",
       "      <th>label_num</th>\n",
       "    </tr>\n",
       "  </thead>\n",
       "  <tbody>\n",
       "    <tr>\n",
       "      <th>0</th>\n",
       "      <td>605</td>\n",
       "      <td>ham</td>\n",
       "      <td>Subject: enron methanol ; meter # : 988291\\r\\n...</td>\n",
       "      <td>0</td>\n",
       "    </tr>\n",
       "    <tr>\n",
       "      <th>1</th>\n",
       "      <td>2349</td>\n",
       "      <td>ham</td>\n",
       "      <td>Subject: hpl nom for january 9 , 2001\\r\\n( see...</td>\n",
       "      <td>0</td>\n",
       "    </tr>\n",
       "    <tr>\n",
       "      <th>2</th>\n",
       "      <td>3624</td>\n",
       "      <td>ham</td>\n",
       "      <td>Subject: neon retreat\\r\\nho ho ho , we ' re ar...</td>\n",
       "      <td>0</td>\n",
       "    </tr>\n",
       "    <tr>\n",
       "      <th>3</th>\n",
       "      <td>4685</td>\n",
       "      <td>spam</td>\n",
       "      <td>Subject: photoshop , windows , office . cheap ...</td>\n",
       "      <td>1</td>\n",
       "    </tr>\n",
       "    <tr>\n",
       "      <th>4</th>\n",
       "      <td>2030</td>\n",
       "      <td>ham</td>\n",
       "      <td>Subject: re : indian springs\\r\\nthis deal is t...</td>\n",
       "      <td>0</td>\n",
       "    </tr>\n",
       "    <tr>\n",
       "      <th>...</th>\n",
       "      <td>...</td>\n",
       "      <td>...</td>\n",
       "      <td>...</td>\n",
       "      <td>...</td>\n",
       "    </tr>\n",
       "    <tr>\n",
       "      <th>5166</th>\n",
       "      <td>1518</td>\n",
       "      <td>ham</td>\n",
       "      <td>Subject: put the 10 on the ft\\r\\nthe transport...</td>\n",
       "      <td>0</td>\n",
       "    </tr>\n",
       "    <tr>\n",
       "      <th>5167</th>\n",
       "      <td>404</td>\n",
       "      <td>ham</td>\n",
       "      <td>Subject: 3 / 4 / 2000 and following noms\\r\\nhp...</td>\n",
       "      <td>0</td>\n",
       "    </tr>\n",
       "    <tr>\n",
       "      <th>5168</th>\n",
       "      <td>2933</td>\n",
       "      <td>ham</td>\n",
       "      <td>Subject: calpine daily gas nomination\\r\\n&gt;\\r\\n...</td>\n",
       "      <td>0</td>\n",
       "    </tr>\n",
       "    <tr>\n",
       "      <th>5169</th>\n",
       "      <td>1409</td>\n",
       "      <td>ham</td>\n",
       "      <td>Subject: industrial worksheets for august 2000...</td>\n",
       "      <td>0</td>\n",
       "    </tr>\n",
       "    <tr>\n",
       "      <th>5170</th>\n",
       "      <td>4807</td>\n",
       "      <td>spam</td>\n",
       "      <td>Subject: important online banking alert\\r\\ndea...</td>\n",
       "      <td>1</td>\n",
       "    </tr>\n",
       "  </tbody>\n",
       "</table>\n",
       "<p>5171 rows × 4 columns</p>\n",
       "</div>"
      ],
      "text/plain": [
       "      Unnamed: 0 label                                               text  \\\n",
       "0            605   ham  Subject: enron methanol ; meter # : 988291\\r\\n...   \n",
       "1           2349   ham  Subject: hpl nom for january 9 , 2001\\r\\n( see...   \n",
       "2           3624   ham  Subject: neon retreat\\r\\nho ho ho , we ' re ar...   \n",
       "3           4685  spam  Subject: photoshop , windows , office . cheap ...   \n",
       "4           2030   ham  Subject: re : indian springs\\r\\nthis deal is t...   \n",
       "...          ...   ...                                                ...   \n",
       "5166        1518   ham  Subject: put the 10 on the ft\\r\\nthe transport...   \n",
       "5167         404   ham  Subject: 3 / 4 / 2000 and following noms\\r\\nhp...   \n",
       "5168        2933   ham  Subject: calpine daily gas nomination\\r\\n>\\r\\n...   \n",
       "5169        1409   ham  Subject: industrial worksheets for august 2000...   \n",
       "5170        4807  spam  Subject: important online banking alert\\r\\ndea...   \n",
       "\n",
       "      label_num  \n",
       "0             0  \n",
       "1             0  \n",
       "2             0  \n",
       "3             1  \n",
       "4             0  \n",
       "...         ...  \n",
       "5166          0  \n",
       "5167          0  \n",
       "5168          0  \n",
       "5169          0  \n",
       "5170          1  \n",
       "\n",
       "[5171 rows x 4 columns]"
      ]
     },
     "execution_count": 2,
     "metadata": {},
     "output_type": "execute_result"
    }
   ],
   "source": [
    "# Leemos el conjunto de datos \"spam_ham_dataset.csv\"\n",
    "import pandas as pd\n",
    "\n",
    "df = pd.read_csv(\"spam_ham_dataset.csv\")\n",
    "df"
   ]
  },
  {
   "cell_type": "code",
   "execution_count": 5,
   "metadata": {
    "colab": {
     "base_uri": "https://localhost:8080/",
     "height": 424
    },
    "executionInfo": {
     "elapsed": 318,
     "status": "ok",
     "timestamp": 1708626829659,
     "user": {
      "displayName": "Luis Emilio Gónzalez Covarrubias",
      "userId": "01801429345147226763"
     },
     "user_tz": 360
    },
    "id": "tv36M25pYA2e",
    "outputId": "ecce3c1f-30f5-42a2-9a29-c44ea942d4ec"
   },
   "outputs": [
    {
     "data": {
      "text/html": [
       "<div>\n",
       "<style scoped>\n",
       "    .dataframe tbody tr th:only-of-type {\n",
       "        vertical-align: middle;\n",
       "    }\n",
       "\n",
       "    .dataframe tbody tr th {\n",
       "        vertical-align: top;\n",
       "    }\n",
       "\n",
       "    .dataframe thead th {\n",
       "        text-align: right;\n",
       "    }\n",
       "</style>\n",
       "<table border=\"1\" class=\"dataframe\">\n",
       "  <thead>\n",
       "    <tr style=\"text-align: right;\">\n",
       "      <th></th>\n",
       "      <th>text</th>\n",
       "      <th>label_num</th>\n",
       "    </tr>\n",
       "  </thead>\n",
       "  <tbody>\n",
       "    <tr>\n",
       "      <th>0</th>\n",
       "      <td>Subject: enron methanol ; meter # : 988291\\r\\n...</td>\n",
       "      <td>0</td>\n",
       "    </tr>\n",
       "    <tr>\n",
       "      <th>1</th>\n",
       "      <td>Subject: hpl nom for january 9 , 2001\\r\\n( see...</td>\n",
       "      <td>0</td>\n",
       "    </tr>\n",
       "    <tr>\n",
       "      <th>2</th>\n",
       "      <td>Subject: neon retreat\\r\\nho ho ho , we ' re ar...</td>\n",
       "      <td>0</td>\n",
       "    </tr>\n",
       "    <tr>\n",
       "      <th>3</th>\n",
       "      <td>Subject: photoshop , windows , office . cheap ...</td>\n",
       "      <td>1</td>\n",
       "    </tr>\n",
       "    <tr>\n",
       "      <th>4</th>\n",
       "      <td>Subject: re : indian springs\\r\\nthis deal is t...</td>\n",
       "      <td>0</td>\n",
       "    </tr>\n",
       "    <tr>\n",
       "      <th>...</th>\n",
       "      <td>...</td>\n",
       "      <td>...</td>\n",
       "    </tr>\n",
       "    <tr>\n",
       "      <th>5166</th>\n",
       "      <td>Subject: put the 10 on the ft\\r\\nthe transport...</td>\n",
       "      <td>0</td>\n",
       "    </tr>\n",
       "    <tr>\n",
       "      <th>5167</th>\n",
       "      <td>Subject: 3 / 4 / 2000 and following noms\\r\\nhp...</td>\n",
       "      <td>0</td>\n",
       "    </tr>\n",
       "    <tr>\n",
       "      <th>5168</th>\n",
       "      <td>Subject: calpine daily gas nomination\\r\\n&gt;\\r\\n...</td>\n",
       "      <td>0</td>\n",
       "    </tr>\n",
       "    <tr>\n",
       "      <th>5169</th>\n",
       "      <td>Subject: industrial worksheets for august 2000...</td>\n",
       "      <td>0</td>\n",
       "    </tr>\n",
       "    <tr>\n",
       "      <th>5170</th>\n",
       "      <td>Subject: important online banking alert\\r\\ndea...</td>\n",
       "      <td>1</td>\n",
       "    </tr>\n",
       "  </tbody>\n",
       "</table>\n",
       "<p>5171 rows × 2 columns</p>\n",
       "</div>"
      ],
      "text/plain": [
       "                                                   text  label_num\n",
       "0     Subject: enron methanol ; meter # : 988291\\r\\n...          0\n",
       "1     Subject: hpl nom for january 9 , 2001\\r\\n( see...          0\n",
       "2     Subject: neon retreat\\r\\nho ho ho , we ' re ar...          0\n",
       "3     Subject: photoshop , windows , office . cheap ...          1\n",
       "4     Subject: re : indian springs\\r\\nthis deal is t...          0\n",
       "...                                                 ...        ...\n",
       "5166  Subject: put the 10 on the ft\\r\\nthe transport...          0\n",
       "5167  Subject: 3 / 4 / 2000 and following noms\\r\\nhp...          0\n",
       "5168  Subject: calpine daily gas nomination\\r\\n>\\r\\n...          0\n",
       "5169  Subject: industrial worksheets for august 2000...          0\n",
       "5170  Subject: important online banking alert\\r\\ndea...          1\n",
       "\n",
       "[5171 rows x 2 columns]"
      ]
     },
     "execution_count": 5,
     "metadata": {},
     "output_type": "execute_result"
    }
   ],
   "source": [
    "# Quitamos las columnas \"Unnamed: 0\" y \"label\"\n",
    "df_2 = df.drop(\"Unnamed: 0\",axis=1).drop(\"label\",axis=1)\n",
    "df_2"
   ]
  },
  {
   "cell_type": "code",
   "execution_count": 6,
   "metadata": {
    "colab": {
     "base_uri": "https://localhost:8080/"
    },
    "executionInfo": {
     "elapsed": 127,
     "status": "ok",
     "timestamp": 1708627015260,
     "user": {
      "displayName": "Luis Emilio Gónzalez Covarrubias",
      "userId": "01801429345147226763"
     },
     "user_tz": 360
    },
    "id": "GO0oiWwLYFEn",
    "outputId": "c947592b-243d-4435-9736-1fbb88911c67"
   },
   "outputs": [
    {
     "data": {
      "text/plain": [
       "0       Subject: enron methanol ; meter # : 988291\\r\\n...\n",
       "1       Subject: hpl nom for january 9 , 2001\\r\\n( see...\n",
       "2       Subject: neon retreat\\r\\nho ho ho , we ' re ar...\n",
       "4       Subject: re : indian springs\\r\\nthis deal is t...\n",
       "5       Subject: ehronline web address change\\r\\nthis ...\n",
       "                              ...                        \n",
       "5165    Subject: fw : crosstex energy , driscoll ranch...\n",
       "5166    Subject: put the 10 on the ft\\r\\nthe transport...\n",
       "5167    Subject: 3 / 4 / 2000 and following noms\\r\\nhp...\n",
       "5168    Subject: calpine daily gas nomination\\r\\n>\\r\\n...\n",
       "5169    Subject: industrial worksheets for august 2000...\n",
       "Name: text, Length: 3672, dtype: object"
      ]
     },
     "execution_count": 6,
     "metadata": {},
     "output_type": "execute_result"
    }
   ],
   "source": [
    "# Obtenemos 4 listas, texto completo, etiquetas, spam y ham\n",
    "texto = df[\"text\"]\n",
    "labels = df[\"label_num\"]\n",
    "spam = df[df[\"label_num\"]==1][\"text\"]\n",
    "ham = df[df[\"label_num\"]==0][\"text\"]\n",
    "ham"
   ]
  },
  {
   "cell_type": "code",
   "execution_count": 11,
   "metadata": {
    "colab": {
     "base_uri": "https://localhost:8080/"
    },
    "executionInfo": {
     "elapsed": 143,
     "status": "ok",
     "timestamp": 1708627380260,
     "user": {
      "displayName": "Luis Emilio Gónzalez Covarrubias",
      "userId": "01801429345147226763"
     },
     "user_tz": 360
    },
    "id": "h350dS60ZCQO",
    "outputId": "d3d7f618-dfbe-4733-c755-ad46e09d716d"
   },
   "outputs": [
    {
     "name": "stderr",
     "output_type": "stream",
     "text": [
      "[nltk_data] Downloading package punkt to /Users/victoria/nltk_data...\n",
      "[nltk_data]   Unzipping tokenizers/punkt.zip.\n",
      "[nltk_data] Downloading package stopwords to\n",
      "[nltk_data]     /Users/victoria/nltk_data...\n",
      "[nltk_data]   Unzipping corpora/stopwords.zip.\n",
      "[nltk_data] Downloading package wordnet to\n",
      "[nltk_data]     /Users/victoria/nltk_data...\n"
     ]
    },
    {
     "data": {
      "text/plain": [
       "True"
      ]
     },
     "execution_count": 11,
     "metadata": {},
     "output_type": "execute_result"
    }
   ],
   "source": [
    "#Creamos una funcion para tokenizar las palabras y pasar a minuscula\n",
    "import re\n",
    "import string\n",
    "import nltk\n",
    "from nltk.tokenize import word_tokenize\n",
    "from nltk.corpus import stopwords\n",
    "from nltk.stem import WordNetLemmatizer\n",
    "import ssl\n",
    "\n",
    "try:\n",
    "    _create_unverified_https_context = ssl._create_unverified_context\n",
    "except AttributeError:\n",
    "    pass\n",
    "else:\n",
    "    ssl._create_default_https_context = _create_unverified_https_context\n",
    "\n",
    "nltk.download('punkt')\n",
    "nltk.download('stopwords')\n",
    "nltk.download('wordnet')\n",
    "\n"
   ]
  },
  {
   "cell_type": "code",
   "execution_count": 12,
   "metadata": {},
   "outputs": [
    {
     "name": "stdout",
     "output_type": "stream",
     "text": [
      "Congratulations! You've won a free trip to Hawaii. Click here to claim your prize!\n",
      "Texto preprocesado: ['congratulation', 'free', 'trip', 'hawaii', 'click', 'claim', 'prize']\n",
      "Resultado deseado: ['congratulation', 'free', 'trip', 'hawaii', 'click', 'claim', 'prize']\n"
     ]
    }
   ],
   "source": [
    "def preprocess_text(text):\n",
    "    \n",
    "    tokens = word_tokenize(text)\n",
    "\n",
    "    tokens_lower = [token.lower() for token in tokens]\n",
    "\n",
    "    table = str.maketrans('', '', string.punctuation + string.digits)\n",
    "    tokens_no_special = [token.translate(table) for token in tokens_lower]\n",
    "\n",
    "    stop_words = set(stopwords.words('english'))\n",
    "    tokens_no_stop = [token for token in tokens_no_special if token not in stop_words]\n",
    "\n",
    "    tokens_no_empty = [token for token in tokens_no_stop if token.strip()]\n",
    "\n",
    "    lemmatizer = WordNetLemmatizer()\n",
    "    tokens_lemmatized = [lemmatizer.lemmatize(token) for token in tokens_no_empty]\n",
    "\n",
    "    return tokens_lemmatized\n",
    "\n",
    "# Ejemplo de texto de correo electrónico\n",
    "email_text = \"Congratulations! You've won a free trip to Hawaii. Click here to claim your prize!\"\n",
    "print(email_text)\n",
    "# Preprocesamiento del texto del correo electrónico\n",
    "preprocessed_email = preprocess_text(email_text)\n",
    "print(\"Texto preprocesado:\", preprocessed_email)\n",
    "print(\"Resultado esperado:\",['congratulation', 'free', 'trip', 'hawaii', 'click', 'claim', 'prize']\n",
    ")"
   ]
  },
  {
   "cell_type": "code",
   "execution_count": 14,
   "metadata": {
    "colab": {
     "base_uri": "https://localhost:8080/"
    },
    "executionInfo": {
     "elapsed": 18287,
     "status": "ok",
     "timestamp": 1708627509363,
     "user": {
      "displayName": "Luis Emilio Gónzalez Covarrubias",
      "userId": "01801429345147226763"
     },
     "user_tz": 360
    },
    "id": "y-vTjaQbbbK_",
    "outputId": "144d6d57-a0ce-4d51-a151-af702366e45b"
   },
   "outputs": [],
   "source": [
    "# Aplicamos la funcion anterior a cada elemento de las listas con texto\n",
    "texto_2 = [preprocess_text(email) for email in texto]\n",
    "spam_2 = [preprocess_text(email) for email in spam]\n",
    "ham_2 = [preprocess_text(email) for email in ham]"
   ]
  },
  {
   "cell_type": "code",
   "execution_count": 15,
   "metadata": {
    "colab": {
     "base_uri": "https://localhost:8080/"
    },
    "executionInfo": {
     "elapsed": 363,
     "status": "ok",
     "timestamp": 1708627788593,
     "user": {
      "displayName": "Luis Emilio Gónzalez Covarrubias",
      "userId": "01801429345147226763"
     },
     "user_tz": 360
    },
    "id": "48905FvScvp8",
    "outputId": "ed5e1bf9-7c8c-4f62-8a84-07d900c79d7f"
   },
   "outputs": [],
   "source": [
    "# Obtenemos el conjunto de palabras unicas de spam\n",
    "set_spam = set()\n",
    "for email in spam_2:\n",
    "  set_spam.update(set(email))"
   ]
  },
  {
   "cell_type": "code",
   "execution_count": 16,
   "metadata": {
    "colab": {
     "base_uri": "https://localhost:8080/"
    },
    "executionInfo": {
     "elapsed": 239,
     "status": "ok",
     "timestamp": 1708627835494,
     "user": {
      "displayName": "Luis Emilio Gónzalez Covarrubias",
      "userId": "01801429345147226763"
     },
     "user_tz": 360
    },
    "id": "GCouqw9reNVL",
    "outputId": "d60e6af7-f3df-4bb7-b6d0-ea484b21ddee"
   },
   "outputs": [],
   "source": [
    "# Obtenemos el conjunto de palabras unicas de ham\n",
    "set_ham = set()\n",
    "for email in ham_2:\n",
    "  set_ham.update(set(email))"
   ]
  },
  {
   "cell_type": "code",
   "execution_count": 19,
   "metadata": {
    "colab": {
     "base_uri": "https://localhost:8080/"
    },
    "executionInfo": {
     "elapsed": 287468,
     "status": "ok",
     "timestamp": 1708628629405,
     "user": {
      "displayName": "Luis Emilio Gónzalez Covarrubias",
      "userId": "01801429345147226763"
     },
     "user_tz": 360
    },
    "id": "Uv4ioIfpb0A9",
    "outputId": "da13f04c-4775-493a-943b-dae0b758e3c5"
   },
   "outputs": [],
   "source": [
    "dict_spamicity = {}\n",
    "#Obtenemos la proba de que aparezca una palabra dado que es spam\n",
    "#Iteramos sobre las palabras que aparecen en spam\n",
    "# Iteramos sobre los correos de spam\n",
    "total_spam = len(spam)\n",
    "for palabra in set_spam:\n",
    "  pInSpam = 0\n",
    "  for email in spam_2:\n",
    "    if palabra in email:\n",
    "      pInSpam +=1\n",
    "  if pInSpam ==0:\n",
    "    proba = 1/total_spam # Parametro\n",
    "  else:\n",
    "    proba = pInSpam/total_spam\n",
    "  dict_spamicity[palabra] = proba\n"
   ]
  },
  {
   "cell_type": "code",
   "execution_count": 20,
   "metadata": {
    "colab": {
     "base_uri": "https://localhost:8080/"
    },
    "executionInfo": {
     "elapsed": 348015,
     "status": "ok",
     "timestamp": 1708629193285,
     "user": {
      "displayName": "Luis Emilio Gónzalez Covarrubias",
      "userId": "01801429345147226763"
     },
     "user_tz": 360
    },
    "id": "oe8qjAJLhx3d",
    "outputId": "30f63663-c4d2-4d2c-cf23-6a0eceef1771"
   },
   "outputs": [],
   "source": [
    "dict_ham = {}\n",
    "#Obtenemos la proba de que aparezca una palabra dado que es ham\n",
    "#Iteramos sobre las palabras que aparecen en ham\n",
    "# Iteramos sobre los correos de ham\n",
    "total_ham = len(ham)\n",
    "for palabra in set_ham:\n",
    "  pInHam = 0\n",
    "  for email in ham_2:\n",
    "    if palabra in email:\n",
    "      pInHam +=1\n",
    "  if pInHam ==0:\n",
    "    proba = 1/total_ham # Parametro\n",
    "  else:\n",
    "    proba = pInHam/total_ham\n",
    "  dict_ham[palabra] = proba\n"
   ]
  },
  {
   "cell_type": "code",
   "execution_count": 23,
   "metadata": {
    "colab": {
     "base_uri": "https://localhost:8080/"
    },
    "executionInfo": {
     "elapsed": 147,
     "status": "ok",
     "timestamp": 1708629299518,
     "user": {
      "displayName": "Luis Emilio Gónzalez Covarrubias",
      "userId": "01801429345147226763"
     },
     "user_tz": 360
    },
    "id": "DkENnWQXjoD6",
    "outputId": "4c51f838-4905-40a4-c1af-0ed8f1cbc4cc"
   },
   "outputs": [
    {
     "data": {
      "text/plain": [
       "0.2898859021465867"
      ]
     },
     "execution_count": 23,
     "metadata": {},
     "output_type": "execute_result"
    }
   ],
   "source": [
    "# Calculamos la proba de spam\n",
    "S = total_spam/(total_spam+total_ham)\n",
    "S"
   ]
  },
  {
   "cell_type": "code",
   "execution_count": 24,
   "metadata": {
    "colab": {
     "base_uri": "https://localhost:8080/"
    },
    "executionInfo": {
     "elapsed": 151,
     "status": "ok",
     "timestamp": 1708629300803,
     "user": {
      "displayName": "Luis Emilio Gónzalez Covarrubias",
      "userId": "01801429345147226763"
     },
     "user_tz": 360
    },
    "id": "aDe1-M04jsC5",
    "outputId": "579ef462-1215-42c9-aae2-0afe0993c638"
   },
   "outputs": [
    {
     "data": {
      "text/plain": [
       "0.7101140978534133"
      ]
     },
     "execution_count": 24,
     "metadata": {},
     "output_type": "execute_result"
    }
   ],
   "source": [
    "# Calculamos la proba de ham\n",
    "H = total_ham/(total_spam+total_ham)\n",
    "H"
   ]
  },
  {
   "cell_type": "code",
   "execution_count": 25,
   "metadata": {
    "id": "5yEmrVcbj5Ti"
   },
   "outputs": [],
   "source": [
    "#Preparamos test individuales\n",
    "tests  = [\"\"\"Subject: re : indian springs\n",
    "this deal is to book the teco pvr revenue . it is my understanding that teco\n",
    "just sends us a check , i haven ' t received an answer as to whether there is a\n",
    "predermined price associated with this deal or if teco just lets us know what\n",
    "we are giving . i can continue to chase this deal down if you need .\"\"\", \"\"\"Subject: photoshop , windows , office . cheap . main trending\n",
    "abasements darer prudently fortuitous undergone\n",
    "lighthearted charm orinoco taster\n",
    "railroad affluent pornographic cuvier\n",
    "irvin parkhouse blameworthy chlorophyll\n",
    "robed diagrammatic fogarty clears bayda\n",
    "inconveniencing managing represented smartness hashish\n",
    "academies shareholders unload badness\n",
    "danielson pure caffein\n",
    "spaniard chargeable levin\"\"\"]\n",
    "tests = [preprocess_text(txt) for txt in tests]"
   ]
  },
  {
   "cell_type": "code",
   "execution_count": 26,
   "metadata": {
    "colab": {
     "base_uri": "https://localhost:8080/"
    },
    "executionInfo": {
     "elapsed": 128,
     "status": "ok",
     "timestamp": 1708629549374,
     "user": {
      "displayName": "Luis Emilio Gónzalez Covarrubias",
      "userId": "01801429345147226763"
     },
     "user_tz": 360
    },
    "id": "a4ZIBevBj9W3",
    "outputId": "53c8ea6c-d726-4017-8cc6-07f9bb759578"
   },
   "outputs": [],
   "source": [
    "# Quitamos de los emails las palabras que no encontramos\n",
    "texto_preprocesado = []\n",
    "for email in tests:\n",
    "  email_nuevo = []\n",
    "  for palabra in email:\n",
    "    if palabra in set_ham:\n",
    "      email_nuevo.append(palabra)\n",
    "    else:\n",
    "      if palabra in set_spam:\n",
    "        email_nuevo.append(palabra)\n",
    "  texto_preprocesado.append(email_nuevo)"
   ]
  },
  {
   "cell_type": "code",
   "execution_count": 27,
   "metadata": {
    "id": "NfUit923iU6M"
   },
   "outputs": [],
   "source": [
    "# Preparamos tests para medir metricas\n",
    "from sklearn.model_selection import train_test_split\n",
    "X_, X_test, y_, y_test = train_test_split(texto_2, labels, test_size=0.33, random_state=42)\n"
   ]
  },
  {
   "cell_type": "code",
   "execution_count": 28,
   "metadata": {
    "colab": {
     "base_uri": "https://localhost:8080/"
    },
    "executionInfo": {
     "elapsed": 117,
     "status": "ok",
     "timestamp": 1708630318031,
     "user": {
      "displayName": "Luis Emilio Gónzalez Covarrubias",
      "userId": "01801429345147226763"
     },
     "user_tz": 360
    },
    "id": "ZqFwZzQ8keHN",
    "outputId": "3e1ba29b-b19b-4c5b-8014-e816e1038205"
   },
   "outputs": [
    {
     "name": "stdout",
     "output_type": "stream",
     "text": [
      "0\n",
      "1\n"
     ]
    }
   ],
   "source": [
    "# Creamos funcion que reciba una lista de probabilidades, multiplique todas y regrese el resultado\n",
    "def mult(probas) :        # multiplicar todas las probas\n",
    "    total_prob = 1\n",
    "    for proba in probas:\n",
    "      total_prob*=proba\n",
    "    # Multiplicar todas las probas\n",
    "    return total_prob\n",
    "# Creamos funcion que aplique Naive_Bayes a un email, con un threshold como parametro\n",
    "def Naive_Bayes(email,threshold):\n",
    "    probs = []\n",
    "    S # prob_spam\n",
    "    H # prob_ham\n",
    "    # Iteramos sobre las palabras del email\n",
    "    for palabra in email:\n",
    "\n",
    "    # Calculamos la proba de PdadoS #*Si es 0 asignamos una probabilidad baja 1/(total_spam+2)\n",
    "      try:\n",
    "        PdadoS = dict_spamicity[palabra]\n",
    "      except:\n",
    "        PdadoS = 1/total_spam\n",
    "    # Calculamos la proba de PdadoH #*Si es 0 asignamos una probabilidad baja 1/(total_spam+2)\n",
    "      try:\n",
    "          PdadoH = dict_ham[palabra]\n",
    "      except:\n",
    "          PdadoH = 1/total_ham\n",
    "    # Aplicamos Bayes para obtener SdadoP\n",
    "      probaB = PdadoS*S/(PdadoS*S+ PdadoH*H)\n",
    "      probs.append(probaB)\n",
    "    # Multiplicamos todas las probas para obtener el total de SdadoEmail\n",
    "    SdadoEmail = mult(probs)\n",
    "    # Aplicamos el Threshold para determinar si es o no es spam\n",
    "    # print(SdadoEmail)\n",
    "    if SdadoEmail >= threshold:\n",
    "      SdadoEmail =1\n",
    "    else:\n",
    "      SdadoEmail = 0\n",
    "    return SdadoEmail\n",
    "for email in texto_preprocesado:\n",
    "  print(Naive_Bayes(email,.00000000000001))\n"
   ]
  },
  {
   "cell_type": "code",
   "execution_count": 29,
   "metadata": {
    "colab": {
     "base_uri": "https://localhost:8080/"
    },
    "executionInfo": {
     "elapsed": 462,
     "status": "ok",
     "timestamp": 1708630427406,
     "user": {
      "displayName": "Luis Emilio Gónzalez Covarrubias",
      "userId": "01801429345147226763"
     },
     "user_tz": 360
    },
    "id": "EdjoJ1EBjIEG",
    "outputId": "19cb93a6-575d-4c5b-adc0-364af389afca"
   },
   "outputs": [
    {
     "name": "stdout",
     "output_type": "stream",
     "text": [
      "              precision    recall  f1-score   support\n",
      "\n",
      "           0       0.82      0.93      0.87      1246\n",
      "           1       0.69      0.43      0.53       461\n",
      "\n",
      "    accuracy                           0.80      1707\n",
      "   macro avg       0.76      0.68      0.70      1707\n",
      "weighted avg       0.78      0.80      0.78      1707\n",
      "\n"
     ]
    }
   ],
   "source": [
    "y_pred = [Naive_Bayes(email,.00000000000001) for email in X_test]\n",
    "\n",
    "from sklearn.metrics import confusion_matrix,classification_report,ConfusionMatrixDisplay\n",
    "print(classification_report(y_test,y_pred))"
   ]
  },
  {
   "cell_type": "code",
   "execution_count": 31,
   "metadata": {
    "colab": {
     "base_uri": "https://localhost:8080/",
     "height": 489
    },
    "executionInfo": {
     "elapsed": 633,
     "status": "ok",
     "timestamp": 1708630437241,
     "user": {
      "displayName": "Luis Emilio Gónzalez Covarrubias",
      "userId": "01801429345147226763"
     },
     "user_tz": 360
    },
    "id": "cIE14wgdjTIg",
    "outputId": "eb2d6544-3a3b-4679-a63c-eea0d478caa8"
   },
   "outputs": [
    {
     "data": {
      "text/plain": [
       "Text(0.5, 1.0, 'Confusion Matrix')"
      ]
     },
     "execution_count": 31,
     "metadata": {},
     "output_type": "execute_result"
    },
    {
     "data": {
      "image/png": "[encoded data removed]",
      "text/plain": [
       "<Figure size 640x480 with 2 Axes>"
      ]
     },
     "metadata": {},
     "output_type": "display_data"
    }
   ],
   "source": [
    "import seaborn as sns\n",
    "import matplotlib.pyplot as plt\n",
    "\n",
    "sns.set_style('ticks')\n",
    "ConfusionMatrixDisplay(confusion_matrix(y_test,y_pred)).plot()\n",
    "plt.title(\"Confusion Matrix\")"
   ]
  },
  {
   "cell_type": "code",
   "execution_count": null,
   "metadata": {},
   "outputs": [],
   "source": [
    "\"\"\" El segundo modelo es mejor que el primero porque tiene una mayor precisión, lo que implica \n",
    "que tiene menos falsos positivos, lo cual indica que cuando predice la clase 1, tiene menos \n",
    "probabilidades de estar mal. El recall para la clase 1 en el modelo 2 es mejor, lo que indica \n",
    "que tiene menos falsos negativos. El modelo 2 es más preciso en general al predecir ambas clases.\n",
    "Podemos observar un mejor F1 para la clase 1 en el modelo 2, lo cual muestra un mejor equilibrio \n",
    "entre el precision y recall para la clase 1. \"\"\""
   ]
  }
 ],
 "metadata": {
  "colab": {
   "authorship_tag": "ABX9TyObVebb9i+2ipa09lv3pgoX",
   "provenance": [
    {
     "file_id": "1wy8tfSrrZ9renV-rcv0Ya-EJzhJ1K-uT",
     "timestamp": 1708630992434
    },
    {
     "file_id": "1yWzp2S9u3CoszoKHFi-lOCaPtykkueXT",
     "timestamp": 1708584779422
    }
   ]
  },
  "kernelspec": {
   "display_name": "Python 3 (ipykernel)",
   "language": "python",
   "name": "python3"
  },
  "language_info": {
   "codemirror_mode": {
    "name": "ipython",
    "version": 3
   },
   "file_extension": ".py",
   "mimetype": "text/x-python",
   "name": "python",
   "nbconvert_exporter": "python",
   "pygments_lexer": "ipython3",
   "version": "3.11.2"
  }
 },
 "nbformat": 4,
 "nbformat_minor": 4
}
